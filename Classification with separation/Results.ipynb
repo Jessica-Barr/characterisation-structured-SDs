{
 "cells": [
  {
   "cell_type": "code",
   "execution_count": 1,
   "id": "e2bb6b82",
   "metadata": {},
   "outputs": [],
   "source": [
    "import numpy as np\n",
    "import matplotlib.pyplot as plt"
   ]
  },
  {
   "cell_type": "code",
   "execution_count": 2,
   "id": "ff57e6f0",
   "metadata": {},
   "outputs": [],
   "source": [
    "#loading training loss values from the csv file into a numpy array\n",
    "trainingloss = np.loadtxt('traininglossvepsilon.csv', delimiter=',')\n",
    "#loading training classification accuracy values from the csv file into a numpy array\n",
    "trainingacc = np.loadtxt('trainingaccvepsilon.csv', delimiter=',')\n",
    "\n",
    "#loading test loss values from the csv file into a numpy array\n",
    "testloss = np.loadtxt('testlossvepsilon.csv', delimiter=',')\n",
    "#loading test classification accuracy values from the csv file into a numpy array\n",
    "testacc = np.loadtxt('testaccvepsilon.csv', delimiter=',')"
   ]
  },
  {
   "cell_type": "code",
   "execution_count": 3,
   "id": "e8a634e1",
   "metadata": {},
   "outputs": [],
   "source": [
    "#configure font properties for the plots\n",
    "plt.rc('font',family='Times New Roman')\n",
    "plt.rcParams.update({'font.size':13})\n",
    "plt.rcParams['font.size'] = 13\n",
    "plt.rcParams['font.family'] = 'Times New Roman'\n",
    "plt.rcParams['mathtext.fontset'] = 'custom'\n",
    "plt.rcParams['mathtext.rm'] = 'Times New Roman'\n",
    "plt.rcParams['axes.linewidth'] = 1"
   ]
  },
  {
   "cell_type": "code",
   "execution_count": 4,
   "id": "cb88c9ad",
   "metadata": {},
   "outputs": [],
   "source": [
    "#create an array of $\\epsilon$ values ranging from 0 to 0.45 with a step of 0.05\n",
    "epsilon = np.arange(0, 0.45+0.05, 0.05)"
   ]
  },
  {
   "cell_type": "code",
   "execution_count": 5,
   "id": "e147d7d0",
   "metadata": {},
   "outputs": [
    {
     "data": {
      "image/png": "[encoded data removed]",
      "text/plain": [
       "<Figure size 432x288 with 1 Axes>"
      ]
     },
     "metadata": {
      "needs_background": "light"
     },
     "output_type": "display_data"
    }
   ],
   "source": [
    "#plot the training and test classification accuracy against the epsilon values \n",
    "plt.plot(epsilon, trainingacc, '--',label='Training Accuracy', color='magenta')\n",
    "plt.plot(epsilon, testacc, '-.', label='Test Accuracy', color='blue')\n",
    "plt.xlabel(\"$\\epsilon$\")\n",
    "plt.ylabel(r\"Accuracy (%)\")\n",
    "plt.legend()\n",
    "plt.savefig('distancebetweenpeaks.pdf')"
   ]
  },
  {
   "cell_type": "markdown",
   "id": "5804fc18",
   "metadata": {},
   "source": [
    "# Correlation analysis for trajectories with two peaks"
   ]
  },
  {
   "cell_type": "code",
   "execution_count": 6,
   "id": "29fd2b0b",
   "metadata": {},
   "outputs": [],
   "source": [
    "#load prediction data for the trajactories with two peaks for different categories (labelled by the model as having\n",
    "#one, two or three peaks)\n",
    "predictions2labelled1 = np.loadtxt('Predictions/predictions2labelled1_epsilon0.0.csv', delimiter=',')\n",
    "predictions2labelled2 = np.loadtxt('Predictions/predictions2labelled2_epsilon0.0.csv', delimiter=',')\n",
    "predictions2labelled3 = np.loadtxt('Predictions/predictions2labelled3_epsilon0.0.csv', delimiter=',')\n",
    "\n",
    "#concatenate the predictions for all three categories\n",
    "predictions = np.concatenate((predictions2labelled1, predictions2labelled2))\n",
    "predictions = np.concatenate((predictions, predictions2labelled3))\n",
    "\n",
    "#extract the fourth column from the concatenated array, which corresponds to the indices of the trajectories in\n",
    "#the original array, and convert them to integers\n",
    "indices = predictions[:,3].astype(int)\n",
    "\n",
    "#load the corresponding true labels from the csv file\n",
    "ytrain2 = np.loadtxt('../Data/Ytrain2.csv', delimiter=',')"
   ]
  },
  {
   "cell_type": "code",
   "execution_count": 7,
   "id": "cae725dc",
   "metadata": {},
   "outputs": [],
   "source": [
    "#initialise an array to hold feature data for each index\n",
    "features = np.zeros((len(indices), 20))\n",
    "\n",
    "#extract the parameters corresponding to each lorentzian peak in the SD\n",
    "params1 = ytrain2[indices,:][:,1:4] \n",
    "params2 = ytrain2[indices,:][:,5:8]\n",
    "\n",
    "#extract the individual parameter values for each peak\n",
    "\n",
    "#extract positions of the peaks\n",
    "nus = ytrain2[indices,:][:,[2, 6]]\n",
    "\n",
    "#extract the width parameters\n",
    "gammas = ytrain2[indices,:][:,[1,5]]\n",
    "\n",
    "#extract the coupling strengths\n",
    "lambdas = ytrain2[indices,:][:,[3,7]]\n",
    "\n",
    "#loop through each index to compute features\n",
    "for i in range(len(indices)):\n",
    "    \n",
    "    #sort the positions of the peaks for consistency\n",
    "    sortednus = nus[i,:].argsort()\n",
    "\n",
    "    #check the order of sorted $\\nu$ values and concatenate the corresponding parameters\n",
    "    #if the first $\\nu$ is the smallest\n",
    "    if sortednus[0]==0:\n",
    "        #concatenate the parameters with the ones corresponding to the first $\\nu$ first\n",
    "        sortedparams = np.concatenate((params1[[i],:], params2[[i],:]), axis = 1)\n",
    "        \n",
    "    else:\n",
    "        #if the second $\\nu$ is smallest, concatenate the parameters with those corresponding to the second $\\nu$ \n",
    "        #first\n",
    "        sortedparams = np.concatenate((params2[[i],:], params1[[i],:]), axis=1)\n",
    "\n",
    "    #store the sorted parameters in the features array\n",
    "    features[i,0:6] = sortedparams\n",
    "    \n",
    "    #calculate the mean, maximum and minimum width parameters and store them in the features array\n",
    "    features[i,6] = np.mean(gammas[i,:]) #mean $\\gamma$\n",
    "    features[i,7] = np.amax(gammas[i,:]) #max $\\gamma$\n",
    "    features[i,8] = np.amin(gammas[i,:]) #min $\\gamma$\n",
    "\n",
    "    #calculate the average position of the peaks and store it in the features array\n",
    "    features[i,9] = np.mean(nus[i,:]) #mean $\\nu$\n",
    "\n",
    "    #calculate the mean, maximum and minimum coupling strengths and store them in the features array\n",
    "    features[i,10] = np.mean(lambdas[i,:]) #mean $\\lambda$\n",
    "    features[i,11] = np.amax(lambdas[i,:]) #max $\\lambda$\n",
    "    features[i,12] = np.amin(lambdas[i,:]) #min $\\lambda$\n",
    "    \n",
    "    #calculate the distance between the peaks\n",
    "    features[i,13] =  np.abs(nus[i,0]-nus[i,1]) #distance between\n",
    "    \n",
    "    #calculate the distances of the peaks from $omega_0$\n",
    "    distancefrom1 = np.abs(1-nus[i,0])\n",
    "    distancefrom2 = np.abs(1-nus[i,1])\n",
    "    \n",
    "    #store the mean, maximum and minimum distances from $\\omega_0$ in the features array\n",
    "    features[i,14] = np.mean([distancefrom1, distancefrom2]) #mean distance from\n",
    "    features[i,15] = np.amax([distancefrom1, distancefrom2]) #max distance from\n",
    "    features[i,16] = np.amin([distancefrom1, distancefrom2]) #min distance from\n",
    "\n",
    "#store the predictions in the last three columns of the features array\n",
    "features[:,17:20] = predictions[:,0:3]"
   ]
  },
  {
   "cell_type": "code",
   "execution_count": 8,
   "id": "29202dc9",
   "metadata": {},
   "outputs": [
    {
     "name": "stdout",
     "output_type": "stream",
     "text": [
      "Correlation between prediction and gamma1: -0.013962510175016174\n",
      "Correlation between prediction and nu1: -0.15757468036354255\n",
      "Correlation between prediction and lambda1: -0.13485554235045183\n",
      "Correlation between prediction and gamma2: -0.10003264395341419\n",
      "Correlation between prediction and nu2: -0.06226163152958565\n",
      "Correlation between prediction and lambda2: -0.2544732482879083\n"
     ]
    }
   ],
   "source": [
    "#calculate the correlation coefficient between the prediction values and various features \n",
    "corrpredgamma1 = np.corrcoef(features[:,18], features[:,0]) #$\\gamma_1$\n",
    "corrprednu1 = np.corrcoef(features[:,18], features[:,1]) #$\\nu_1$\n",
    "corrpredlambda1 = np.corrcoef(features[:,18], features[:,2]) #$\\lambda_1$\n",
    "corrpredgamma2 = np.corrcoef(features[:,18], features[:,3]) #$\\gamma_2$\n",
    "corrprednu2 = np.corrcoef(features[:,18], features[:,4]) #$\\nu_2$\n",
    "corrpredlambda2 = np.corrcoef(features[:,18], features[:,5]) #$\\lambda_2$\n",
    "\n",
    "#print the correlation coefficients for each feature \n",
    "print(\"Correlation between prediction and gamma1:\", corrpredgamma1[0,1])\n",
    "print(\"Correlation between prediction and nu1:\", corrprednu1[0,1])\n",
    "print(\"Correlation between prediction and lambda1:\", corrpredlambda1[0,1])\n",
    "print(\"Correlation between prediction and gamma2:\", corrpredgamma2[0,1])\n",
    "print(\"Correlation between prediction and nu2:\", corrprednu2[0,1])\n",
    "print(\"Correlation between prediction and lambda2:\", corrpredlambda2[0,1])"
   ]
  },
  {
   "cell_type": "code",
   "execution_count": 9,
   "id": "4eed7ff9",
   "metadata": {},
   "outputs": [
    {
     "name": "stdout",
     "output_type": "stream",
     "text": [
      "Correlation between prediction and average gamma: -0.08016811351589281\n",
      "Correlation between prediction and max gamma: -0.05746485017024266\n",
      "Correlation between prediction and min gamma: -0.08134444363890933\n",
      "Correlation between prediction and average nu: -0.12735812395114873\n",
      "Correlation between prediction and average lambda: -0.26611734113664637\n",
      "Correlation between prediction and max lambda: -0.24198353334630096\n",
      "Correlation between prediction and min lambda: -0.22550423030819253\n"
     ]
    }
   ],
   "source": [
    "#calculate the correlation coefficient between the prediction values and various features \n",
    "corrpredavgamma = np.corrcoef(features[:,18], features[:,6]) #mean $\\gamma$ \n",
    "corrpredmaxgamma = np.corrcoef(features[:,18], features[:,7]) #max $\\gamma$\n",
    "corrpredmingamma = np.corrcoef(features[:,18], features[:,8]) #min $\\gamma$\n",
    "corrpredavnu = np.corrcoef(features[:,18], features[:,9]) #mean $\\nu$\n",
    "corrpredavlambda = np.corrcoef(features[:,18], features[:,10]) #mean $\\lambda$\n",
    "corrpredmaxlambda = np.corrcoef(features[:,18], features[:,11]) #max $\\lambda$\n",
    "corrpredminlambda = np.corrcoef(features[:,18], features[:,12]) #min $\\lambda$\n",
    "\n",
    "#print the correlation coefficients for each feature\n",
    "print(\"Correlation between prediction and average gamma:\", corrpredavgamma[0,1])\n",
    "print(\"Correlation between prediction and max gamma:\", corrpredmaxgamma[0,1])\n",
    "print(\"Correlation between prediction and min gamma:\", corrpredmingamma[0,1])\n",
    "print(\"Correlation between prediction and average nu:\", corrpredavnu[0,1])\n",
    "print(\"Correlation between prediction and average lambda:\", corrpredavlambda[0,1])\n",
    "print(\"Correlation between prediction and max lambda:\", corrpredmaxlambda[0,1])\n",
    "print(\"Correlation between prediction and min lambda:\", corrpredminlambda[0,1])"
   ]
  },
  {
   "cell_type": "code",
   "execution_count": 10,
   "id": "31b41fea",
   "metadata": {},
   "outputs": [
    {
     "name": "stdout",
     "output_type": "stream",
     "text": [
      "Correlation between prediction and Distance Between: 0.09255195541122978\n",
      "Correlation between prediction and Mean Distance From: -0.1677174652193406\n",
      "Correlation between prediction and Max Distance From: -0.10182474614872755\n",
      "Correlation between prediction and Min Distance From: -0.20327896478750987\n"
     ]
    }
   ],
   "source": [
    "#calculate the correlation coefficient between the prediction values and various features \n",
    "corrpredDB = np.corrcoef(features[:,18], features[:,13]) #distance between the peaks\n",
    "corrpredMeanDF = np.corrcoef(features[:,18], features[:,14]) #mean distance from $\\omega_0$\n",
    "corrpredMaxDF = np.corrcoef(features[:,18], features[:,15]) #max distance from $\\omega_0$\n",
    "corrpredMinDF = np.corrcoef(features[:,18], features[:,16]) #min distance from $\\omega_0$\n",
    "\n",
    "print(\"Correlation between prediction and Distance Between:\", corrpredDB[0,1])\n",
    "print(\"Correlation between prediction and Mean Distance From:\", corrpredMeanDF[0,1])\n",
    "print(\"Correlation between prediction and Max Distance From:\", corrpredMaxDF[0,1])\n",
    "print(\"Correlation between prediction and Min Distance From:\", corrpredMinDF[0,1])"
   ]
  },
  {
   "cell_type": "markdown",
   "id": "44ad4d02",
   "metadata": {},
   "source": [
    "# Correlation analysis for trajectories with three peaks"
   ]
  },
  {
   "cell_type": "code",
   "execution_count": 11,
   "id": "755827f1",
   "metadata": {},
   "outputs": [],
   "source": [
    "#load prediction data for the trajactories with three peaks for different categories (labelled by the model as \n",
    "#having one, two or three peaks)\n",
    "predictions3labelled1 = np.loadtxt('Predictions/predictions3labelled1_epsilon0.0.csv', delimiter=',')\n",
    "predictions3labelled2 = np.loadtxt('Predictions/predictions3labelled2_epsilon0.0.csv', delimiter=',')\n",
    "predictions3labelled3 = np.loadtxt('Predictions/predictions3labelled3_epsilon0.0.csv', delimiter=',')\n",
    "\n",
    "#concatenate the predictions for all three categories\n",
    "predictions = np.concatenate((predictions3labelled1, predictions3labelled2))\n",
    "predictions = np.concatenate((predictions, predictions3labelled3))\n",
    "\n",
    "#extract the fourth column from the concatenated array, which corresponds to the indices of the trajectories in\n",
    "#the original array, and convert them to integers\n",
    "indices = predictions[:,3].astype(int)\n",
    "\n",
    "#load the corresponding true labels from the csv file\n",
    "ytrain3 = np.loadtxt('../Data/Ytrain3.csv', delimiter=',')"
   ]
  },
  {
   "cell_type": "code",
   "execution_count": 12,
   "id": "ccf3f0ae",
   "metadata": {},
   "outputs": [],
   "source": [
    "#initialise an array to hold feature data for each index\n",
    "features = np.zeros((len(indices), 23))\n",
    "\n",
    "#extract the parameters corresponding to each lorentzian peak in the SD\n",
    "params1 = ytrain3[indices,:][:,1:4]\n",
    "params2 = ytrain3[indices,:][:,5:8]\n",
    "params3 = ytrain3[indices,:][:,9:12]\n",
    "\n",
    "#extract the individual parameter values for each peak\n",
    "\n",
    "#extract positions of the peaks\n",
    "nus = ytrain3[indices,:][:,[2, 6, 10]]\n",
    "\n",
    "#extract the width parameters\n",
    "gammas = ytrain3[indices,:][:,[1, 5, 9]]\n",
    "\n",
    "#extract the coupling strengths\n",
    "lambdas = ytrain3[indices,:][:,[3, 7, 11]]\n",
    "\n",
    "#loop through each index to compute features\n",
    "for i in range(len(indices)):\n",
    "    \n",
    "    #sort the positions of the peaks for consistency\n",
    "    sortednus = nus[i,:].argsort()\n",
    "\n",
    "    #check the order of sorted $\\nu$ values and concatenate the corresponding parameters\n",
    "    #if the first $\\nu$ is the smallest\n",
    "    if sortednus[0]==0:\n",
    "\n",
    "        #and the second $\\nu$ is the second smallest\n",
    "        if sortednus[1]==1:\n",
    "            #concatenate the parameters with the ones corresponding to the first $\\nu$ first, then the second $\\nu$, \n",
    "            #then the third\n",
    "            sortedparams=np.concatenate((params1[[i],:], params2[[i],:]), axis=1)\n",
    "            sortedparams=np.concatenate((sortedparams, params3[[i],:]), axis=1)\n",
    "\n",
    "        #or if the third $\\nu$ is the second smallest\n",
    "        else:\n",
    "            #concatenate the parameters with the ones corresponding to the first $\\nu$ first, then the third $\\nu$,\n",
    "            #then the second\n",
    "            sortedparams=np.concatenate((params1[[i],:], params3[[i],:]), axis=1)\n",
    "            sortedparams=np.concatenate((sortedparams, params2[[i],:]), axis=1)\n",
    "\n",
    "    #if the second $\\nu$ is the smallest\n",
    "    if sortednus[0]==1:\n",
    "\n",
    "        #if the first $\\nu$ is the second smallest\n",
    "        if sortednus[1]==0:\n",
    "            #concatenate the parameters with the ones corresponding to the second $\\nu$ first, then the first, then \n",
    "            #the third\n",
    "            sortedparams=np.concatenate((params2[[i],:], params1[[i],:]), axis=1)\n",
    "            sortedparams=np.concatenate((sortedparams, params3[[i],:]), axis=1)\n",
    "\n",
    "        #or if the third $\\nu$ is the second smallest\n",
    "        else:\n",
    "            #concatenate the parameters with the ones corresponding to the second $\\nu$ first, then the third, then\n",
    "            #the first\n",
    "            sortedparams=np.concatenate((params2[[i],:], params3[[i],:]), axis=1)\n",
    "            sortedparams=np.concatenate((sortedparams, params1[[i],:]), axis=1)\n",
    "\n",
    "    #if the third $\\nu$ is the smallest\n",
    "    if sortednus[0]==2:\n",
    "        \n",
    "        #if the first $\\nu$ is the second smallest\n",
    "        if sortednus[1]==0:\n",
    "            #concatenate the parameters with the ones corresponding to the third $\\nu$ first, then the first $\\nu$,\n",
    "            #then the second\n",
    "            sortedparams=np.concatenate((params3[[i],:], params1[[i],:]), axis=1)\n",
    "            sortedparams=np.concatenate((sortedparams, params2[[i],:]), axis=1)\n",
    "        \n",
    "        #if the third $\\nu$ is the second smallest\n",
    "        else:\n",
    "            #concatenate the parameters with the ones corresponding to the third $\\nu$ first, then the second $\\nu$,\n",
    "            #then the first\n",
    "            sortedparams=np.concatenate((params3[[i],:], params2[[i],:]), axis=1)\n",
    "            sortedparams=np.concatenate((sortedparams, params1[[i],:]), axis=1)\n",
    "\n",
    "    #store the sorted parameters in the features array\n",
    "    features[i,0:9] = sortedparams\n",
    "    \n",
    "    #calculate the mean, maximum and minimum width parameters and store them in the features array\n",
    "    features[i,9] = np.mean(gammas[i,:]) #mean $\\gamma$\n",
    "    features[i,10] = np.amax(gammas[i,:]) #max $\\gamma$\n",
    "    features[i,11] = np.amin(gammas[i,:]) #min $\\gamma$\n",
    "\n",
    "    #calculate the average position of the peaks and store it in the features array\n",
    "    features[i,12] = np.mean(nus[i,:]) #mean $\\nu$\n",
    "\n",
    "    features[i,13] = np.mean(lambdas[i,:]) #mean $\\lambda$\n",
    "    features[i,14] = np.amax(lambdas[i,:]) #max $\\lambda$\n",
    "    features[i,15] = np.amin(lambdas[i,:]) #min $\\lambda$\n",
    "    \n",
    "    #calculate the pairwise distances between the peaks\n",
    "    distancebetween1 = np.abs(nus[i,0]-nus[i,1])\n",
    "    distancebetween2 = np.abs(nus[i,1]-nus[i,2])\n",
    "    distancebetween3 = np.abs(nus[i,0]-nus[i,2])\n",
    "    \n",
    "    #store the minimum distance between the peaks\n",
    "    features[i,16] = np.amin([distancebetween1, distancebetween2, distancebetween3]) #min distance between\n",
    "    \n",
    "    #calculate the distances of the peaks from $\\omega_0$\n",
    "    distancefrom1 = np.abs(1-nus[i,0])\n",
    "    distancefrom2 = np.abs(1-nus[i,1])\n",
    "    distancefrom3 = np.abs(1-nus[i,2])\n",
    "    \n",
    "    #store the mean, maximum and minimum distances from $\\omega_0$ in the features array\n",
    "    features[i,17] = np.mean([distancefrom1, distancefrom2, distancefrom3]) #mean distance from\n",
    "    features[i,18] = np.amax([distancefrom1, distancefrom2, distancefrom3]) #max distance from\n",
    "    features[i,19] = np.amin([distancefrom1, distancefrom2, distancefrom3]) #min distance from\n",
    "\n",
    "#store the predictions in the last three columns of the features array\n",
    "features[:,20:23] = predictions[:,0:3]"
   ]
  },
  {
   "cell_type": "code",
   "execution_count": 13,
   "id": "f061a2d4",
   "metadata": {},
   "outputs": [
    {
     "name": "stdout",
     "output_type": "stream",
     "text": [
      "Correlation between prediction and gamma1: 0.050292039761955606\n",
      "Correlation between prediction and nu1: -0.11468941034058018\n",
      "Correlation between prediction and lambda1: 0.21304074849718524\n",
      "Correlation between prediction and gamma2: 0.04228594099185605\n",
      "Correlation between prediction and nu2: -0.029330771433944015\n",
      "Correlation between prediction and lambda2: 0.3281804462880834\n",
      "Correlation between prediction and gamma3: -0.044271812511227235\n",
      "Correlation between prediction and nu3: 0.11530445817684072\n",
      "Correlation between prediction and lambda3: 0.30803497772597255\n"
     ]
    }
   ],
   "source": [
    "#calculate the correlation coefficient between the prediction values and various features \n",
    "corrpredgamma1 = np.corrcoef(features[:,22], features[:,0]) #$\\gamma_1$\n",
    "corrprednu1 = np.corrcoef(features[:,22], features[:,1]) #$\\nu_1$\n",
    "corrpredlambda1 = np.corrcoef(features[:,22], features[:,2]) #$\\lambda_1$\n",
    "corrpredgamma2 = np.corrcoef(features[:,22], features[:,3]) #$\\gamma_2$\n",
    "corrprednu2 = np.corrcoef(features[:,22], features[:,4]) #$\\nu_2$\n",
    "corrpredlambda2 = np.corrcoef(features[:,22], features[:,5]) #$\\lambda_2$\n",
    "corrpredgamma3 = np.corrcoef(features[:,22], features[:,6]) #$\\gamma_3$\n",
    "corrprednu3 = np.corrcoef(features[:,22], features[:,7]) #$\\nu_3$\n",
    "corrpredlambda3 = np.corrcoef(features[:,22], features[:,8]) #$\\lambda_3$\n",
    "\n",
    "#print the correlation coefficients for each feature \n",
    "print(\"Correlation between prediction and gamma1:\", corrpredgamma1[0,1])\n",
    "print(\"Correlation between prediction and nu1:\", corrprednu1[0,1])\n",
    "print(\"Correlation between prediction and lambda1:\", corrpredlambda1[0,1])\n",
    "print(\"Correlation between prediction and gamma2:\", corrpredgamma2[0,1])\n",
    "print(\"Correlation between prediction and nu2:\", corrprednu2[0,1])\n",
    "print(\"Correlation between prediction and lambda2:\", corrpredlambda2[0,1])\n",
    "print(\"Correlation between prediction and gamma3:\", corrpredgamma3[0,1])\n",
    "print(\"Correlation between prediction and nu3:\", corrprednu3[0,1])\n",
    "print(\"Correlation between prediction and lambda3:\", corrpredlambda3[0,1])"
   ]
  },
  {
   "cell_type": "code",
   "execution_count": 14,
   "id": "4b027c64",
   "metadata": {},
   "outputs": [
    {
     "name": "stdout",
     "output_type": "stream",
     "text": [
      "Correlation between prediction and average gamma: 0.028743070936960196\n",
      "Correlation between prediction and max gamma: 0.03602077950769168\n",
      "Correlation between prediction and min gamma: -0.013425443824173034\n",
      "Correlation between prediction and average nu: -0.013304510586840325\n",
      "Correlation between prediction and average lambda: 0.4667209434854793\n",
      "Correlation between prediction and max lambda: 0.40007978791331494\n",
      "Correlation between prediction and min lambda: 0.35409435216169843\n"
     ]
    }
   ],
   "source": [
    "#calculate the correlation coefficient between the prediction values and various features \n",
    "corrpredavgamma = np.corrcoef(features[:,22], features[:,9]) #mean $\\gamma$\n",
    "corrpredmaxgamma = np.corrcoef(features[:,22], features[:,10]) #max $\\gamma$\n",
    "corrpredmingamma = np.corrcoef(features[:,22], features[:,11]) #min $|gamma$\n",
    "corrpredavnu = np.corrcoef(features[:,22], features[:,12]) #mean $\\nu$\n",
    "corrpredavlambda = np.corrcoef(features[:,22], features[:,13]) #mean $|lambda$\n",
    "corrpredmaxlambda = np.corrcoef(features[:,22], features[:,14]) #max $|lambda$\n",
    "corrpredminlambda = np.corrcoef(features[:,22], features[:,15]) #min $|lambda$\n",
    "\n",
    "#print the correlation coefficients for each feature \n",
    "print(\"Correlation between prediction and average gamma:\", corrpredavgamma[0,1])\n",
    "print(\"Correlation between prediction and max gamma:\", corrpredmaxgamma[0,1])\n",
    "print(\"Correlation between prediction and min gamma:\", corrpredmingamma[0,1])\n",
    "print(\"Correlation between prediction and average nu:\", corrpredavnu[0,1])\n",
    "print(\"Correlation between prediction and average lambda:\", corrpredavlambda[0,1])\n",
    "print(\"Correlation between prediction and max lambda:\", corrpredmaxlambda[0,1])\n",
    "print(\"Correlation between prediction and min lambda:\", corrpredminlambda[0,1])"
   ]
  },
  {
   "cell_type": "code",
   "execution_count": 15,
   "id": "86f09f21",
   "metadata": {},
   "outputs": [
    {
     "name": "stdout",
     "output_type": "stream",
     "text": [
      "Correlation between prediction and Min Distance Between: 0.36916423489343775\n",
      "Correlation between prediction and Mean Distance From: -0.012132533213949434\n",
      "Correlation between prediction and Max Distance From: 0.09952258356324016\n",
      "Correlation between prediction and Min Distance From: -0.1207454809455968\n"
     ]
    }
   ],
   "source": [
    "#calculate the correlation coefficient between the prediction values and various features \n",
    "corrpredMinDB = np.corrcoef(features[:,22], features[:,16]) #minimum distance between the peaks\n",
    "corrpredMeanDF = np.corrcoef(features[:,22], features[:,17]) #mean distance from $|omega_0$\n",
    "corrpredMaxDF = np.corrcoef(features[:,22], features[:,18]) #max distance from $|omega_0$\n",
    "corrpredMinDF = np.corrcoef(features[:,22], features[:,19]) #min distance from $|omega_0$\n",
    "\n",
    "#print the correlation coefficients for each feature \n",
    "print(\"Correlation between prediction and Min Distance Between:\", corrpredMinDB[0,1])\n",
    "print(\"Correlation between prediction and Mean Distance From:\", corrpredMeanDF[0,1])\n",
    "print(\"Correlation between prediction and Max Distance From:\", corrpredMaxDF[0,1])\n",
    "print(\"Correlation between prediction and Min Distance From:\", corrpredMinDF[0,1])"
   ]
  }
 ],
 "metadata": {
  "kernelspec": {
   "display_name": "Python 3 (ipykernel)",
   "language": "python",
   "name": "python3"
  },
  "language_info": {
   "codemirror_mode": {
    "name": "ipython",
    "version": 3
   },
   "file_extension": ".py",
   "mimetype": "text/x-python",
   "name": "python",
   "nbconvert_exporter": "python",
   "pygments_lexer": "ipython3",
   "version": "3.9.7"
  }
 },
 "nbformat": 4,
 "nbformat_minor": 5
}
